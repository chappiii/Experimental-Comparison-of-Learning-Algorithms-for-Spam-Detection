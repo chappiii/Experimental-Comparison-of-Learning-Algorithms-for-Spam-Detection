{
 "cells": [
  {
   "cell_type": "code",
   "execution_count": null,
   "id": "2639fb3d-a088-45da-a6ec-ac91ac0d4da6",
   "metadata": {},
   "outputs": [],
   "source": [
    "import pandas as pd\n",
    "import matplotlib.pyplot as plt\n",
    "import seaborn as sns\n",
    "\n",
    "# Step 1: Load the .data file\n",
    "file = \"spambase.data\"  # Replace with the actual path to your .data file\n",
    "data = pd.read_csv(file, header=None)\n",
    "# data.head\n",
    "# data.info\n",
    "data.describe()"
   ]
  },
  {
   "cell_type": "code",
   "execution_count": null,
   "id": "9b853e26-de0b-4aac-8922-b97fe92f9634",
   "metadata": {},
   "outputs": [],
   "source": [
    "data.corr()"
   ]
  },
  {
   "cell_type": "code",
   "execution_count": null,
   "id": "35a22602-60b1-4390-9869-a0949614c5ae",
   "metadata": {},
   "outputs": [],
   "source": [
    "corr = data.corr()\n",
    "plt.figure(figsize=(20,10))\n",
    "sns.heatmap(corr, annot=True, cmap='coolwarm')"
   ]
  }
 ],
 "metadata": {
  "kernelspec": {
   "display_name": "Python 3 (ipykernel)",
   "language": "python",
   "name": "python3"
  },
  "language_info": {
   "codemirror_mode": {
    "name": "ipython",
    "version": 3
   },
   "file_extension": ".py",
   "mimetype": "text/x-python",
   "name": "python",
   "nbconvert_exporter": "python",
   "pygments_lexer": "ipython3",
   "version": "3.12.4"
  }
 },
 "nbformat": 4,
 "nbformat_minor": 5
}
